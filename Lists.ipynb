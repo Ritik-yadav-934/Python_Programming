{
 "cells": [
  {
   "cell_type": "markdown",
   "id": "969680bf-da42-4ecb-937d-843a62ca5381",
   "metadata": {},
   "source": [
    "# Lists"
   ]
  },
  {
   "cell_type": "code",
   "execution_count": 1,
   "id": "e25d9ff4-079c-477f-955c-e8e5041b7735",
   "metadata": {},
   "outputs": [
    {
     "data": {
      "text/plain": [
       "'C:\\\\Users\\\\Ritikyadav\\\\Python'"
      ]
     },
     "execution_count": 1,
     "metadata": {},
     "output_type": "execute_result"
    }
   ],
   "source": [
    "import os\n",
    "os.getcwd()"
   ]
  },
  {
   "cell_type": "code",
   "execution_count": 1,
   "id": "f01f67a2-df86-499f-b51e-8d812367a6f5",
   "metadata": {},
   "outputs": [],
   "source": [
    "# List is a data type where you can store multiple items under 1 name. More Technically, lists\n",
    "# act like dynamic arrays which means you can add more items.\n"
   ]
  },
  {
   "cell_type": "markdown",
   "id": "13e23f8f-8681-40fd-8662-039f16042d06",
   "metadata": {},
   "source": [
    "* Array Vs Lists\n",
    "* Array are homogeneous\n",
    "* List is hetrogeneous in nature\n",
    "* Fixed Vs Dynamic Size\n",
    "* Convenience -> Hetrogeneous \n",
    "* Speed of EXecution (list is slow in comparision to array)\n",
    "* Memory (list is more space occupied in comparision to array)\n",
    "* List is flexiable"
   ]
  },
  {
   "cell_type": "code",
   "execution_count": 5,
   "id": "81497803-ccb3-4776-990d-43a64cefc177",
   "metadata": {},
   "outputs": [
    {
     "name": "stdout",
     "output_type": "stream",
     "text": [
      "140713071880664\n"
     ]
    }
   ],
   "source": [
    "a = 2\n",
    "print(id(a)) # id -> give the memory address by using the id()\n"
   ]
  },
  {
   "cell_type": "code",
   "execution_count": 9,
   "id": "974e10c3-85e6-45bf-a081-5dc358abbb8e",
   "metadata": {},
   "outputs": [
    {
     "name": "stdout",
     "output_type": "stream",
     "text": [
      "2003969969280\n",
      "1 140713071880632\n",
      "2 140713071880664\n",
      "3 140713071880696\n",
      "140713071880632\n",
      "140713071880664\n",
      "140713071880696\n"
     ]
    }
   ],
   "source": [
    "L = [1,2,3]\n",
    "print(id(L))\n",
    "print(\"1\",id(L[0]))\n",
    "print(\"2\",id(L[1]))\n",
    "print(\"3\",id(L[2]))\n",
    "print(id(1))\n",
    "print(id(2))\n",
    "print(id(3))"
   ]
  },
  {
   "cell_type": "code",
   "execution_count": 2,
   "id": "c0a7cd37-03ff-4e45-b651-0ec85b22850b",
   "metadata": {},
   "outputs": [
    {
     "name": "stdout",
     "output_type": "stream",
     "text": [
      "[20, 30, 40, 'ritik', [30, 40, 50], 'Raju', 'Rohit']\n"
     ]
    }
   ],
   "source": [
    "L = [20, 40,   \"ritik\", [30,40,50],\"Raju\", \"Rohit\"]\n",
    "    # L[0], L[1]  L[2]     L[3]       L[4]     L[5]\n",
    "\n",
    "      \n",
    "print(L)"
   ]
  },
  {
   "cell_type": "markdown",
   "id": "47109be5-a899-48e5-b741-adc77921b850",
   "metadata": {},
   "source": [
    "Characterstics of a List\n",
    "* Ordered\n",
    "* Changeble/Mutable\n",
    "* Hetrogeneous\n",
    "* are dynamic\n",
    "* can be nested\n",
    "* items can be accessed\n",
    "* can contain any kind of objects in python\n",
    "* List can have double item or element\n",
    "  "
   ]
  },
  {
   "cell_type": "code",
   "execution_count": 14,
   "id": "05344a80-da22-4aa5-803a-8456e29ec45c",
   "metadata": {},
   "outputs": [
    {
     "name": "stdout",
     "output_type": "stream",
     "text": [
      "False\n"
     ]
    }
   ],
   "source": [
    "L_1 = [1,2,3]\n",
    "L_2 = [3,2,1]\n",
    "res = L_1 == L_2\n",
    "print(res)"
   ]
  },
  {
   "cell_type": "markdown",
   "id": "a5f140b3-20bc-4e76-adfe-fb8a8f4418cc",
   "metadata": {},
   "source": [
    "## Creating a list\n"
   ]
  },
  {
   "cell_type": "code",
   "execution_count": 15,
   "id": "5cfccf97-abe2-4a04-a114-adf6059d2c34",
   "metadata": {},
   "outputs": [
    {
     "name": "stdout",
     "output_type": "stream",
     "text": [
      "[]\n"
     ]
    }
   ],
   "source": [
    "\n",
    "print([])  # Empty\n",
    "\n"
   ]
  },
  {
   "cell_type": "code",
   "execution_count": 22,
   "id": "8c32b4a6-a1ab-48b3-b330-3f38b526a15b",
   "metadata": {},
   "outputs": [
    {
     "name": "stdout",
     "output_type": "stream",
     "text": [
      "[1, 2, 3, 4, 5]\n",
      "[1, 2, 3, 4, 5, 6, [1, 2, 3], [1, 2, 3]]\n",
      "[[[1, 2], [3, 4], [5, 6], [[8, 9]]]]\n",
      "Heterogenours list [1, 2, 3, True, False, 'ritik', 'yadav', 42.3]\n",
      "['h', 'e', 'l', 'l', 'o']\n"
     ]
    }
   ],
   "source": [
    "# 1D->  list and this is also homogeneours in nature because the element are ssame data type\n",
    "\n",
    "print([1,2,3,4,5])\n",
    "\n",
    "# 2D List-> \n",
    "print([1,2,3,4,5,6,[1,2,3],[1,2,3]])  # this is heterogeneours in nature beacurse there are 1 to 6 \n",
    "#is integer and there are 2 list  so they are the heterogeneours in natures\n",
    "print([[[1,2],[3,4],[5,6],[[8,9]]]])  # 3D -list (homogenerous list)\n",
    "print(\"Heterogenours list\", [1,2,3,True,False,\"ritik\", \"yadav\", 42.3])\n",
    "print(list(\"hello\")) # using the type conversion"
   ]
  },
  {
   "cell_type": "markdown",
   "id": "9cd85bbb-0adf-44e6-a4b8-b5a028c13f9b",
   "metadata": {},
   "source": [
    "### Accessging items form a list"
   ]
  },
  {
   "cell_type": "code",
   "execution_count": 24,
   "id": "97c85ce6-1f5d-4a5c-a1ad-d14f4d7dc20d",
   "metadata": {},
   "outputs": [],
   "source": [
    "# Indexing\n",
    "# Slicing"
   ]
  },
  {
   "cell_type": "code",
   "execution_count": 44,
   "id": "9b035bf0-e892-49ed-ba8c-659f9743d1a4",
   "metadata": {},
   "outputs": [
    {
     "name": "stdout",
     "output_type": "stream",
     "text": [
      "1\n",
      "2\n",
      "3\n",
      "8\n",
      "[4, 5]\n",
      "4\n",
      "negative indexing---------\n",
      "5\n"
     ]
    }
   ],
   "source": [
    "List = [1,2,3,8,[4,5]]\n",
    "print(List[0]) # this is called positive indexing\n",
    "print(List[1])\n",
    "print(List[2])\n",
    "print(List[3])\n",
    "print(List[4])\n",
    "print(List[4][0])\n",
    "# negative indexing\n",
    "print(\"negative indexing---------\")\n",
    "print(List[-1][-1])\n"
   ]
  },
  {
   "cell_type": "code",
   "execution_count": 71,
   "id": "4af49bd7-74b3-4c0e-8e3b-c4f2503ea13d",
   "metadata": {},
   "outputs": [
    {
     "name": "stdout",
     "output_type": "stream",
     "text": [
      "3\n"
     ]
    }
   ],
   "source": [
    "D = [[[1,2],[3,4],[5,6],[[8,9]]]]\n",
    "print(D[0][1][0])\n"
   ]
  },
  {
   "cell_type": "code",
   "execution_count": 76,
   "id": "77150a98-333c-4045-a8c7-67e5a2b9aae0",
   "metadata": {},
   "outputs": [
    {
     "name": "stdout",
     "output_type": "stream",
     "text": [
      "2\n"
     ]
    }
   ],
   "source": [
    "print(D[0][0][1])"
   ]
  },
  {
   "cell_type": "code",
   "execution_count": 88,
   "id": "3ab397d0-002f-4d70-8c9d-5e6383f05b10",
   "metadata": {},
   "outputs": [
    {
     "name": "stdout",
     "output_type": "stream",
     "text": [
      "[1, 3, 5]\n",
      "[5, 4, 3, 2, 1]\n"
     ]
    }
   ],
   "source": [
    "# Slicing\n",
    "L = [1,2,3,4,5]\n",
    "print(L[::2])\n",
    "\n",
    "print(L[::-1]) # this method by using the reverse the list\n"
   ]
  },
  {
   "cell_type": "markdown",
   "id": "b707af8c-fc0a-4722-92ac-4d81a48bcf44",
   "metadata": {},
   "source": [
    "Adding item to a list"
   ]
  },
  {
   "cell_type": "code",
   "execution_count": 96,
   "id": "b0d7296a-b0ee-4285-b72b-f47cdf131019",
   "metadata": {},
   "outputs": [
    {
     "name": "stdout",
     "output_type": "stream",
     "text": [
      "[1, 2, 3, 4, 5, 10, 10, 10, 10, 10, 10, 10]\n"
     ]
    }
   ],
   "source": [
    "# append -> it added at the last only element\n",
    "\n",
    "L.append(10)\n",
    "print(L)\n",
    "\n"
   ]
  },
  {
   "cell_type": "code",
   "execution_count": 97,
   "id": "33289aab-e5e3-49b0-a9de-02a742e5fab5",
   "metadata": {},
   "outputs": [
    {
     "name": "stdout",
     "output_type": "stream",
     "text": [
      "[1, 2, 3, 4, 5, 10, 10, 10, 10, 10, 10, 10, 11, 12, 13, 14]\n"
     ]
    }
   ],
   "source": [
    "# extend -> at a one time more than one element added\n",
    "L.extend([11,12,13,14])\n",
    "print(L)"
   ]
  },
  {
   "cell_type": "code",
   "execution_count": 98,
   "id": "c802de0b-866d-414f-bcff-9d31941c115c",
   "metadata": {},
   "outputs": [
    {
     "name": "stdout",
     "output_type": "stream",
     "text": [
      "[1, 2, 4, 5, [6, 7, 8]]\n"
     ]
    }
   ],
   "source": [
    "A = [1,2,4,5]\n",
    "A.append([6,7,8])\n",
    "print(A)"
   ]
  },
  {
   "cell_type": "code",
   "execution_count": 101,
   "id": "b5ea5038-8aa5-45e1-9caf-b3020ab755ca",
   "metadata": {},
   "outputs": [
    {
     "name": "stdout",
     "output_type": "stream",
     "text": [
      "[1, 2, 4, 5, [6, 7, 8], 'R', 'i', 't', 'i', 'k']\n",
      "[1, 2, 4, 5, [6, 7, 8], 'R', 'i', 't', 'i', 'k', 'R', 'i', 't', 'i', 'k']\n"
     ]
    }
   ],
   "source": [
    "print(A)\n",
    "A.extend(\"Ritik\")\n",
    "print(A)"
   ]
  },
  {
   "cell_type": "code",
   "execution_count": 106,
   "id": "9d461ebf-bff4-403b-9bbc-9abee133f8fa",
   "metadata": {},
   "outputs": [
    {
     "name": "stdout",
     "output_type": "stream",
     "text": [
      "[1, 2, 'ritik', 3, 4]\n"
     ]
    }
   ],
   "source": [
    "#insert -> add  a elemet by the specific position\n",
    "K = [1,2,3,4]\n",
    "K.insert(2,\"ritik\")\n",
    "print(K)"
   ]
  },
  {
   "cell_type": "code",
   "execution_count": 115,
   "id": "be590721-2b6f-4c9b-b084-b804ce8e7d1d",
   "metadata": {},
   "outputs": [
    {
     "name": "stdout",
     "output_type": "stream",
     "text": [
      "[1, 200, 300, 4]\n"
     ]
    }
   ],
   "source": [
    "# Editing item in a list\n",
    "\n",
    "s = [1,2,3,4]\n",
    "s[1:3] =[200,300]\n",
    "print(s)"
   ]
  },
  {
   "cell_type": "markdown",
   "id": "e80164a7-5f59-45c7-8dbe-c97610ec6aa6",
   "metadata": {},
   "source": [
    "Deleting items from a list\n"
   ]
  },
  {
   "cell_type": "code",
   "execution_count": 119,
   "id": "c0b3754a-e41e-4fd8-be62-a337965d2d18",
   "metadata": {},
   "outputs": [
    {
     "ename": "NameError",
     "evalue": "name 'L' is not defined",
     "output_type": "error",
     "traceback": [
      "\u001b[1;31m---------------------------------------------------------------------------\u001b[0m",
      "\u001b[1;31mNameError\u001b[0m                                 Traceback (most recent call last)",
      "Cell \u001b[1;32mIn[119], line 3\u001b[0m\n\u001b[0;32m      1\u001b[0m \u001b[38;5;66;03m# del \u001b[39;00m\n\u001b[1;32m----> 3\u001b[0m \u001b[38;5;28;01mdel\u001b[39;00m L\n",
      "\u001b[1;31mNameError\u001b[0m: name 'L' is not defined"
     ]
    }
   ],
   "source": [
    "# del \n",
    "\n",
    "del L\n"
   ]
  },
  {
   "cell_type": "code",
   "execution_count": 125,
   "id": "4412488c-b2ae-494a-972f-41e47d88e4db",
   "metadata": {},
   "outputs": [
    {
     "name": "stdout",
     "output_type": "stream",
     "text": [
      "[1]\n"
     ]
    }
   ],
   "source": [
    "del K[-1]\n",
    "print(K)"
   ]
  },
  {
   "cell_type": "code",
   "execution_count": 128,
   "id": "fe922333-04a0-4141-88bd-2674a9e61af5",
   "metadata": {},
   "outputs": [],
   "source": [
    "del K"
   ]
  },
  {
   "cell_type": "code",
   "execution_count": 130,
   "id": "4907bed7-9ddd-4b4b-85dc-22ca8948964c",
   "metadata": {},
   "outputs": [],
   "source": [
    "del A\n"
   ]
  },
  {
   "cell_type": "code",
   "execution_count": 135,
   "id": "1f2a4527-d531-45ba-af7f-b731f77c1077",
   "metadata": {},
   "outputs": [
    {
     "name": "stdout",
     "output_type": "stream",
     "text": [
      "[1, 2, 3, 4]\n",
      "[1, 2, 3]\n"
     ]
    }
   ],
   "source": [
    "A = [1,2,3,4,5]\n",
    "A.remove(5)\n",
    "print(A)\n",
    "A.pop()\n",
    "print(A)\n"
   ]
  },
  {
   "cell_type": "code",
   "execution_count": 137,
   "id": "5106c237-9123-4aca-bd46-e0869c7a8213",
   "metadata": {},
   "outputs": [
    {
     "name": "stdout",
     "output_type": "stream",
     "text": [
      "[1, 2, 3]\n"
     ]
    },
    {
     "data": {
      "text/plain": [
       "2"
      ]
     },
     "execution_count": 137,
     "metadata": {},
     "output_type": "execute_result"
    }
   ],
   "source": [
    "print(A)\n",
    "A.pop(1)"
   ]
  },
  {
   "cell_type": "code",
   "execution_count": 138,
   "id": "ff4d5c09-9ad3-4be0-82d5-438d50fc690d",
   "metadata": {},
   "outputs": [
    {
     "name": "stdout",
     "output_type": "stream",
     "text": [
      "[1, 3]\n"
     ]
    }
   ],
   "source": [
    "print(A)"
   ]
  },
  {
   "cell_type": "code",
   "execution_count": 140,
   "id": "aaeb06f2-0af0-4aa4-9032-05fceda4ca48",
   "metadata": {},
   "outputs": [],
   "source": [
    "# clear function\n",
    "A.clear()"
   ]
  },
  {
   "cell_type": "code",
   "execution_count": 141,
   "id": "fe6ea9d5-ef90-4343-8b39-2d6ffb3cc558",
   "metadata": {},
   "outputs": [
    {
     "name": "stdout",
     "output_type": "stream",
     "text": [
      "[]\n"
     ]
    }
   ],
   "source": [
    "print(A)"
   ]
  },
  {
   "cell_type": "markdown",
   "id": "714d3fbc-440b-4d64-b6ff-c00928dc252a",
   "metadata": {},
   "source": [
    "# Operations on Lists"
   ]
  },
  {
   "cell_type": "markdown",
   "id": "4d408765-9f0f-457a-8e11-bf36d8ed29a2",
   "metadata": {},
   "source": [
    "* Arithmetic \n",
    "* Membership\n",
    "* Loop"
   ]
  },
  {
   "cell_type": "code",
   "execution_count": 142,
   "id": "911f1755-40d5-48a4-9256-c2f4a55d1b36",
   "metadata": {},
   "outputs": [
    {
     "name": "stdout",
     "output_type": "stream",
     "text": [
      "[1, 2, 3, 4, 5, 6, 7]\n"
     ]
    }
   ],
   "source": [
    "# Arithmetic operator (+ , * )\n",
    "# use the (+ ) operator is the concatenate the list\n",
    "\n",
    "L1 = [1,2,3,4]\n",
    "L2 = [5,6,7]\n",
    "\n",
    "print(L1+L2)"
   ]
  },
  {
   "cell_type": "code",
   "execution_count": 144,
   "id": "3730ed23-40ee-45a4-ba0d-e6944142ac84",
   "metadata": {},
   "outputs": [
    {
     "name": "stdout",
     "output_type": "stream",
     "text": [
      "[1, 2, 3, 4, 1, 2, 3, 4, 1, 2, 3, 4]\n"
     ]
    }
   ],
   "source": [
    "print(L1*3) # -> (*) operator is the multipled at the number and merge the list and add the lsit\n"
   ]
  },
  {
   "cell_type": "code",
   "execution_count": 148,
   "id": "48c7d1e8-46ac-43b9-9ac3-29a0eeecf907",
   "metadata": {},
   "outputs": [
    {
     "name": "stdout",
     "output_type": "stream",
     "text": [
      "True\n",
      "True\n"
     ]
    }
   ],
   "source": [
    "# Membership operation\n",
    "\n",
    "L3 = [4,5,6,7]\n",
    "L4 = [9,7,4,[5,6]]\n",
    "print(5 in L3)\n",
    "print([5,6] in L4)"
   ]
  },
  {
   "cell_type": "code",
   "execution_count": 163,
   "id": "479cb223-df5b-4ee7-8c85-efde64a0e9c8",
   "metadata": {},
   "outputs": [
    {
     "name": "stdout",
     "output_type": "stream",
     "text": [
      "5\n",
      "6\n",
      "7\n"
     ]
    }
   ],
   "source": [
    "L1 = [1,2,3,4]\n",
    "L2 = [5,6,7,[12,3,4,5]]\n",
    "\n",
    "for i in L2:\n",
    "    print(i)\n",
    "    "
   ]
  },
  {
   "cell_type": "code",
   "execution_count": 167,
   "id": "eca7a560-033b-4b7e-864b-0d9dd53329d8",
   "metadata": {},
   "outputs": [
    {
     "name": "stdout",
     "output_type": "stream",
     "text": [
      "5\n",
      "6\n",
      "7\n",
      "[12, 3, 4, 5]\n"
     ]
    }
   ],
   "source": [
    "L2 = [5,6,7,[12,3,4,5]]\n",
    "for j in L2:\n",
    "    print(j)"
   ]
  },
  {
   "cell_type": "code",
   "execution_count": 172,
   "id": "ca04244b-601e-4e19-bc4b-9de4e721fe5b",
   "metadata": {},
   "outputs": [
    {
     "name": "stdout",
     "output_type": "stream",
     "text": [
      "[[1, 2], [3, 4]]\n",
      "[[5, 6], [8, 9]]\n"
     ]
    }
   ],
   "source": [
    "L5 = [[[1,2],[3,4]],[[5,6],[8,9]]]\n",
    "for k in L5:\n",
    "    print(k)"
   ]
  },
  {
   "cell_type": "markdown",
   "id": "74bdf560-b957-499f-85dd-ecb2c8bead15",
   "metadata": {},
   "source": [
    "List Functions()"
   ]
  },
  {
   "cell_type": "code",
   "execution_count": 177,
   "id": "8a4ba9ed-3891-4fd8-a15e-eb8aa9bff605",
   "metadata": {},
   "outputs": [
    {
     "name": "stdout",
     "output_type": "stream",
     "text": [
      "7\n",
      "2\n",
      "24\n",
      "[2, 3, 4, 5, 6, 10, 24]\n"
     ]
    }
   ],
   "source": [
    "# len/ min/max/sorted\n",
    "L = [4,3,2,5,6,10,24]\n",
    "print(len(L))\n",
    "print(min(L))\n",
    "print(max(L))\n",
    "print(sorted(L))"
   ]
  },
  {
   "cell_type": "code",
   "execution_count": 179,
   "id": "5ee5da97-dcb8-4dfd-85bd-5ae470619871",
   "metadata": {},
   "outputs": [
    {
     "name": "stdout",
     "output_type": "stream",
     "text": [
      "3\n"
     ]
    }
   ],
   "source": [
    "#count -> count function is the count of occurence of the element\n",
    "x = [1,2,3,4,3,1,1,2,4,5,3]\n",
    "print(x.count(1))"
   ]
  },
  {
   "cell_type": "code",
   "execution_count": 180,
   "id": "1b5d5172-9601-42b8-93ce-57a68e36af02",
   "metadata": {},
   "outputs": [
    {
     "name": "stdout",
     "output_type": "stream",
     "text": [
      "0\n"
     ]
    }
   ],
   "source": [
    "#index  -> give the return the index of the element\n",
    "y = [1,2,3,4,3,2,4,5]\n",
    "print(y.index(1))"
   ]
  },
  {
   "cell_type": "code",
   "execution_count": 185,
   "id": "193cd8c3-2e76-404a-bb58-5d77bf9a1d76",
   "metadata": {},
   "outputs": [
    {
     "name": "stdout",
     "output_type": "stream",
     "text": [
      "[5, 4, 2, 3, 4, 3, 2, 1]\n"
     ]
    }
   ],
   "source": [
    "#reverse -> permanently reverse the list\n",
    "y = [1,2,3,4,3,2,4,5]\n",
    "y.reverse()\n",
    "print(y)\n"
   ]
  },
  {
   "cell_type": "code",
   "execution_count": 195,
   "id": "8a35bdb0-4fd0-4158-bf54-55e5bf22822f",
   "metadata": {},
   "outputs": [
    {
     "name": "stdout",
     "output_type": "stream",
     "text": [
      "[1, 2, 2, 3, 3, 4, 4, 5]\n",
      "[1, 2, 3, 4, 3, 2, 4, 5]\n",
      "[1, 2, 2, 3, 3, 4, 4, 5]\n",
      "[1, 2, 2, 3, 3, 4, 4, 5]\n"
     ]
    }
   ],
   "source": [
    "# sort (vs sorted) \n",
    "# sort -> sort techniqure is the sort peramanently  elemenet \n",
    "# sorted -> sorted techinque is the temperory sorted the element\n",
    "\n",
    "y = [1,2,3,4,3,2,4,5]\n",
    "print(sorted(y)) \n",
    "print(y)\n",
    "y.sort()\n",
    "print(y)\n",
    "print(y)"
   ]
  },
  {
   "cell_type": "code",
   "execution_count": 197,
   "id": "13c32f3e-0cb3-4210-97cc-cd77c7b346d0",
   "metadata": {},
   "outputs": [
    {
     "name": "stdout",
     "output_type": "stream",
     "text": [
      "2003974985152\n",
      "[1, 2, 3, 4]\n",
      "2003990278784\n"
     ]
    }
   ],
   "source": [
    "# copy\n",
    "z = [1,2,3,4]\n",
    "print(id(z))\n",
    "\n",
    "z1 = z.copy()\n",
    "print(z1)\n",
    "print(id(z1))\n"
   ]
  },
  {
   "cell_type": "markdown",
   "id": "d01e538a-bd53-4767-be78-ca13bd5b5915",
   "metadata": {},
   "source": [
    "List comprehension"
   ]
  },
  {
   "cell_type": "markdown",
   "id": "5206449c-33d6-4157-9826-592e4287f680",
   "metadata": {},
   "source": [
    "# List Comprehension in python"
   ]
  },
  {
   "cell_type": "code",
   "execution_count": 198,
   "id": "71e2aa34-8c4b-4480-83fa-72e9554a7990",
   "metadata": {},
   "outputs": [],
   "source": [
    "# List comprehension is a way to create lists using a concise syntax. It allows us to generate\n",
    "# a new list by applaying an expression to each item in an existing iterable(such as a list or range).\n",
    "# this helps us to write cleaner, more readable code compread to traditional looping techniqures\n"
   ]
  },
  {
   "cell_type": "code",
   "execution_count": 199,
   "id": "b48b6ab5-8d01-43eb-ae7b-67d75b90c8db",
   "metadata": {},
   "outputs": [],
   "source": [
    "# Syntax of List Comprehension\n",
    "# [expression for item in iterable if condition]\n",
    "\n",
    "# expression: The transformation or value to be included in the new list.\n",
    "# item: The current element taken from the iterable.\n",
    "# iterable: A sequence or collection (e.g., list, tuple, set).\n",
    "# if condition (optional): A filtering condition that decides whether the current item should be included."
   ]
  },
  {
   "cell_type": "code",
   "execution_count": 201,
   "id": "7ff5b46a-5f0e-4f5c-b726-e8a1889ef0e3",
   "metadata": {},
   "outputs": [
    {
     "name": "stdout",
     "output_type": "stream",
     "text": [
      "[4, 9, 16, 25, 100]\n"
     ]
    }
   ],
   "source": [
    "a = [2,3,4,5,10]\n",
    "res = [val ** 2 for val in a]\n",
    "print(res)"
   ]
  },
  {
   "cell_type": "code",
   "execution_count": 202,
   "id": "de1a725c-f084-48b2-92c1-50f0b5daf529",
   "metadata": {},
   "outputs": [
    {
     "name": "stdout",
     "output_type": "stream",
     "text": [
      "[1, 2, 3, 4, 5, 6, 7, 8, 9, 10]\n"
     ]
    }
   ],
   "source": [
    "L = []\n",
    "for i in range(1,11):\n",
    "    L.append(i)\n",
    "print(L)"
   ]
  },
  {
   "cell_type": "code",
   "execution_count": 204,
   "id": "c93b18ba-d25f-4845-90bd-25a073bebcf8",
   "metadata": {},
   "outputs": [
    {
     "name": "stdout",
     "output_type": "stream",
     "text": [
      "[1, 2, 3, 4, 5, 6, 7, 8, 9, 10]\n"
     ]
    }
   ],
   "source": [
    "L = [i for i in range(1,11)]\n",
    "print(L)"
   ]
  },
  {
   "cell_type": "code",
   "execution_count": 209,
   "id": "30a130ca-271b-44c1-bf92-65066ca251ff",
   "metadata": {},
   "outputs": [
    {
     "data": {
      "text/plain": [
       "[-6, -9, -12]"
      ]
     },
     "execution_count": 209,
     "metadata": {},
     "output_type": "execute_result"
    }
   ],
   "source": [
    "# scalar multiplication on a vector\n",
    "v = [2,3,4]\n",
    "s = -3\n",
    "# x = []\n",
    "[s*i for i in v]\n",
    "# for i in v:\n",
    "#     x.append(i*s)\n",
    "# print(x)"
   ]
  },
  {
   "cell_type": "code",
   "execution_count": 212,
   "id": "1481f00e-6c68-40f4-b7f5-890456943332",
   "metadata": {},
   "outputs": [
    {
     "data": {
      "text/plain": [
       "[1, 4, 9, 16, 25]"
      ]
     },
     "execution_count": 212,
     "metadata": {},
     "output_type": "execute_result"
    }
   ],
   "source": [
    "# Add Square\n",
    "L = [1,2,3,4,5]\n",
    "[i**2 for i in L]\n"
   ]
  },
  {
   "cell_type": "code",
   "execution_count": 213,
   "id": "a545d431-7bc5-4866-a65d-26908f0747cf",
   "metadata": {},
   "outputs": [
    {
     "data": {
      "text/plain": [
       "[5, 10, 15, 20, 25, 30, 35, 40, 45, 50]"
      ]
     },
     "execution_count": 213,
     "metadata": {},
     "output_type": "execute_result"
    }
   ],
   "source": [
    "# print all number divisible by 5 in the range of 1 to 50\n",
    "[i for i in range(1,51) if i%5 == 0]"
   ]
  },
  {
   "cell_type": "code",
   "execution_count": 216,
   "id": "1e1dffe3-1792-4d68-b9bd-bed45c49fd64",
   "metadata": {},
   "outputs": [
    {
     "data": {
      "text/plain": [
       "['Python', 'Php']"
      ]
     },
     "execution_count": 216,
     "metadata": {},
     "output_type": "execute_result"
    }
   ],
   "source": [
    "prog = [\"Python\", \"Php\", \"Java\", \"C++\", \"c\", \"JS\", \"R\"]\n",
    "[lang for lang in prog if lang.startswith(\"P\")]"
   ]
  },
  {
   "cell_type": "code",
   "execution_count": 219,
   "id": "1649bb1c-1011-475e-82f0-6c017245f6d5",
   "metadata": {},
   "outputs": [
    {
     "data": {
      "text/plain": [
       "['apple', 'anana']"
      ]
     },
     "execution_count": 219,
     "metadata": {},
     "output_type": "execute_result"
    }
   ],
   "source": [
    "# Nested if with list comprehension\n",
    "basket = [\"apple\", \"guava\", \"cherry\", \"anana\"]\n",
    "my_fruits = [\"apple\", \"kiwi\", \"grapes\", \"anana\"]\n",
    "\n",
    "# add new list from my_fruits and items it the fruits exists in basket and also start with 'a'\n",
    "[fruit for fruit in my_fruits if fruit in basket if fruit.startswith('a')]"
   ]
  },
  {
   "cell_type": "code",
   "execution_count": 221,
   "id": "af958351-4971-4258-a395-97b6a88fe9e4",
   "metadata": {},
   "outputs": [
    {
     "data": {
      "text/plain": [
       "[[1, 2, 3], [2, 4, 6], [3, 6, 9]]"
      ]
     },
     "execution_count": 221,
     "metadata": {},
     "output_type": "execute_result"
    }
   ],
   "source": [
    "# print a (3,3) matrix using list comprehension -> nested list comprehension\n",
    "[[i*j for i in range(1,4)] for j in range(1,4)]"
   ]
  },
  {
   "cell_type": "code",
   "execution_count": 222,
   "id": "ee7415fb-b7e9-48d2-8faf-5571e7e86d43",
   "metadata": {},
   "outputs": [
    {
     "data": {
      "text/plain": [
       "[5, 6, 7, 8, 10, 12, 14, 16, 15, 18, 21, 24, 20, 24, 28, 32]"
      ]
     },
     "execution_count": 222,
     "metadata": {},
     "output_type": "execute_result"
    }
   ],
   "source": [
    "# cartesion products -> list comprehension on 2 lists together\n",
    "L1 = [1,2,3,4]\n",
    "L2 = [5,6,7,8]\n",
    "[i*j for i in L1 for j in L2]"
   ]
  },
  {
   "cell_type": "code",
   "execution_count": null,
   "id": "749b07f8-d184-45af-859d-0a83752d9333",
   "metadata": {},
   "outputs": [],
   "source": []
  }
 ],
 "metadata": {
  "kernelspec": {
   "display_name": "Python 3 (ipykernel)",
   "language": "python",
   "name": "python3"
  },
  "language_info": {
   "codemirror_mode": {
    "name": "ipython",
    "version": 3
   },
   "file_extension": ".py",
   "mimetype": "text/x-python",
   "name": "python",
   "nbconvert_exporter": "python",
   "pygments_lexer": "ipython3",
   "version": "3.12.7"
  }
 },
 "nbformat": 4,
 "nbformat_minor": 5
}
