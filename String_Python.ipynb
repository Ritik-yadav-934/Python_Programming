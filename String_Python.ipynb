{
 "cells": [
  {
   "cell_type": "markdown",
   "id": "91509075-1be6-4ec6-bf99-15648212f47f",
   "metadata": {},
   "source": [
    "The current population of a town is 10000. The population of the town is incresing at the rate \n",
    "of 10% of per year. You have to write a program to find out the population at the end of the last 10 years\n"
   ]
  },
  {
   "cell_type": "code",
   "execution_count": 2,
   "id": "a39dab5d-3491-4f7b-a6a1-719ed622f580",
   "metadata": {},
   "outputs": [
    {
     "name": "stdout",
     "output_type": "stream",
     "text": [
      "10 10000\n",
      "9 9090.90909090909\n",
      "8 8264.462809917353\n",
      "7 7513.148009015775\n",
      "6 6830.134553650703\n",
      "5 6209.213230591548\n",
      "4 5644.739300537771\n",
      "3 5131.5811823070635\n",
      "2 4665.07380209733\n",
      "1 4240.976183724845\n"
     ]
    }
   ],
   "source": [
    "current_popu = 10000\n",
    "for i in range(10,0,-1):  \n",
    "    print(i,current_popu)\n",
    "    current_popu = current_popu/1.1\n",
    "\n",
    "\n",
    "# i = 10 = 10000\n",
    "# i = 9 = 10000/1.1 = 9090.9090\n",
    "# i = 8 = 9090.9090/1.1 = 8264.4628\n",
    "# and soo on\n"
   ]
  },
  {
   "cell_type": "markdown",
   "id": "d64c4a52-c751-4082-8295-08a5d4aaebde",
   "metadata": {},
   "source": [
    "Sequence of sum like :-> 1/1! + 2/2! + 3/3! + 4/4! ... upto n.."
   ]
  },
  {
   "cell_type": "code",
   "execution_count": 13,
   "id": "03357f1b-1a27-4921-b29a-279897dd2e7f",
   "metadata": {},
   "outputs": [
    {
     "name": "stdin",
     "output_type": "stream",
     "text": [
      "enter the number:  5\n"
     ]
    },
    {
     "name": "stdout",
     "output_type": "stream",
     "text": [
      "1\n",
      "2\n",
      "6\n",
      "24\n",
      "120\n",
      "2.708333333333333\n"
     ]
    }
   ],
   "source": [
    "\n",
    "n = int(input(\"enter the number: \"))\n",
    "sum = 0\n",
    "fact = 1\n",
    "for i in range(1,n+1):\n",
    "    fact = fact * i\n",
    "    sum = sum + i/fact\n",
    "    print(fact)\n",
    "print(sum)\n"
   ]
  },
  {
   "cell_type": "code",
   "execution_count": 14,
   "id": "86523239-f189-43c4-921a-0113dfb714b7",
   "metadata": {},
   "outputs": [
    {
     "name": "stdout",
     "output_type": "stream",
     "text": [
      "2.6416666666666666\n"
     ]
    }
   ],
   "source": [
    "a = 2.6+5/120\n",
    "print(a)"
   ]
  },
  {
   "cell_type": "markdown",
   "id": "377979bc-9c3b-43b6-b8a0-d62ecae1b24b",
   "metadata": {},
   "source": [
    "# String\n"
   ]
  },
  {
   "cell_type": "markdown",
   "id": "61372d2d-c6dc-4eea-809a-127f7bd90b6b",
   "metadata": {},
   "source": [
    "Strings are sequence of characters\n",
    "In python specifically, strings are a sequence of unicode characters\n",
    "* Createing strings\n",
    "* Accessing Strings\n",
    "* Adding chars to Strings\n",
    "* Editing String\n",
    "* Deletion String\n",
    "* Operations on String\n",
    "* String function"
   ]
  },
  {
   "cell_type": "code",
   "execution_count": null,
   "id": "be98ab56-bfd7-4abc-b57e-ace165ace8a7",
   "metadata": {},
   "outputs": [],
   "source": [
    "# unicode vs ascii code\n"
   ]
  },
  {
   "cell_type": "code",
   "execution_count": 16,
   "id": "c21716be-f596-40a4-8264-a56e92a44bf5",
   "metadata": {},
   "outputs": [
    {
     "name": "stdout",
     "output_type": "stream",
     "text": [
      "Ritik yadav\n"
     ]
    }
   ],
   "source": [
    "# Creating strings\n",
    "s = \"Ritik Yadav\"\n",
    "s = 'Ritik yadav'\n",
    "s = '''Ritik yadav''' # for multiline string by using the triple inverted quotes\n",
    "s = str(\"Hello\")\n",
    "\n",
    "print(s)\n"
   ]
  },
  {
   "cell_type": "code",
   "execution_count": 18,
   "id": "a70d99fd-3221-4b1f-bb39-c0d56dfd75b9",
   "metadata": {},
   "outputs": [
    {
     "data": {
      "text/plain": [
       "\"it's  raining outside\""
      ]
     },
     "execution_count": 18,
     "metadata": {},
     "output_type": "execute_result"
    }
   ],
   "source": [
    "\"it's  raining outside\""
   ]
  },
  {
   "cell_type": "code",
   "execution_count": 23,
   "id": "0a84f04c-1ee6-4826-8ce2-7fa8d650b423",
   "metadata": {},
   "outputs": [
    {
     "name": "stdout",
     "output_type": "stream",
     "text": [
      "v\n"
     ]
    }
   ],
   "source": [
    "# indexing in string \n",
    "\n",
    "print(s[10])\n"
   ]
  },
  {
   "cell_type": "code",
   "execution_count": 26,
   "id": "e1354467-bda5-4520-98fe-1a88a74ab1d8",
   "metadata": {},
   "outputs": [
    {
     "name": "stdout",
     "output_type": "stream",
     "text": [
      "t\n"
     ]
    }
   ],
   "source": [
    "# Negative indexing in string\n",
    "s = \"Hello Ritik\"\n",
    "print(s[-3])\n"
   ]
  },
  {
   "cell_type": "code",
   "execution_count": 31,
   "id": "3aa90df3-021b-4373-a9b0-fc0c99bcecba",
   "metadata": {},
   "outputs": [
    {
     "name": "stdout",
     "output_type": "stream",
     "text": [
      "tsylana atad a emoceb vaday kitir\n"
     ]
    }
   ],
   "source": [
    "# Slicing in String\n",
    "name = \"ritik yadav become a data analyst\"\n",
    "# print(name[start:end:stepParamter])\n"
   ]
  },
  {
   "cell_type": "code",
   "execution_count": 32,
   "id": "ff320803-881e-4fd2-b1d6-628efcd285d7",
   "metadata": {},
   "outputs": [
    {
     "ename": "TypeError",
     "evalue": "'str' object does not support item assignment",
     "output_type": "error",
     "traceback": [
      "\u001b[1;31m---------------------------------------------------------------------------\u001b[0m",
      "\u001b[1;31mTypeError\u001b[0m                                 Traceback (most recent call last)",
      "Cell \u001b[1;32mIn[32], line 2\u001b[0m\n\u001b[0;32m      1\u001b[0m s \u001b[38;5;241m=\u001b[39m \u001b[38;5;124m\"\u001b[39m\u001b[38;5;124mHello World\u001b[39m\u001b[38;5;124m\"\u001b[39m\n\u001b[1;32m----> 2\u001b[0m s[\u001b[38;5;241m0\u001b[39m] \u001b[38;5;241m=\u001b[39m \u001b[38;5;124m\"\u001b[39m\u001b[38;5;124mH\u001b[39m\u001b[38;5;124m\"\u001b[39m\n\u001b[0;32m      3\u001b[0m \u001b[38;5;28mprint\u001b[39m(s)\n",
      "\u001b[1;31mTypeError\u001b[0m: 'str' object does not support item assignment"
     ]
    }
   ],
   "source": [
    "s = \"Hello World\"\n",
    "s[0] = \"H\" # python strings are immutable\n",
    "\n",
    "print(s)"
   ]
  },
  {
   "cell_type": "code",
   "execution_count": 35,
   "id": "b2bf3527-b593-4e7a-870c-4e7b4957764b",
   "metadata": {},
   "outputs": [
    {
     "name": "stdout",
     "output_type": "stream",
     "text": [
      "ritik yadav become a data analyst\n"
     ]
    }
   ],
   "source": [
    "print(name)"
   ]
  },
  {
   "cell_type": "code",
   "execution_count": 37,
   "id": "6d7ed9df-43e2-4dea-b760-3dc3ef6b1942",
   "metadata": {},
   "outputs": [
    {
     "ename": "NameError",
     "evalue": "name 'name' is not defined",
     "output_type": "error",
     "traceback": [
      "\u001b[1;31m---------------------------------------------------------------------------\u001b[0m",
      "\u001b[1;31mNameError\u001b[0m                                 Traceback (most recent call last)",
      "Cell \u001b[1;32mIn[37], line 1\u001b[0m\n\u001b[1;32m----> 1\u001b[0m \u001b[38;5;28;01mdel\u001b[39;00m name\n\u001b[0;32m      2\u001b[0m \u001b[38;5;28mprint\u001b[39m(name)\n",
      "\u001b[1;31mNameError\u001b[0m: name 'name' is not defined"
     ]
    }
   ],
   "source": [
    "\n",
    "del name\n",
    "print(name)"
   ]
  },
  {
   "cell_type": "code",
   "execution_count": 38,
   "id": "5da1f63e-7359-47be-beb8-2c73e465a853",
   "metadata": {},
   "outputs": [
    {
     "ename": "TypeError",
     "evalue": "'str' object does not support item deletion",
     "output_type": "error",
     "traceback": [
      "\u001b[1;31m---------------------------------------------------------------------------\u001b[0m",
      "\u001b[1;31mTypeError\u001b[0m                                 Traceback (most recent call last)",
      "Cell \u001b[1;32mIn[38], line 2\u001b[0m\n\u001b[0;32m      1\u001b[0m s \u001b[38;5;241m=\u001b[39m \u001b[38;5;124m\"\u001b[39m\u001b[38;5;124mHello ritik\u001b[39m\u001b[38;5;124m\"\u001b[39m\n\u001b[1;32m----> 2\u001b[0m \u001b[38;5;28;01mdel\u001b[39;00m s[\u001b[38;5;241m-\u001b[39m\u001b[38;5;241m1\u001b[39m:\u001b[38;5;241m-\u001b[39m\u001b[38;5;241m5\u001b[39m:\u001b[38;5;241m-\u001b[39m\u001b[38;5;241m1\u001b[39m]\n\u001b[0;32m      3\u001b[0m \u001b[38;5;28mprint\u001b[39m(s)\n",
      "\u001b[1;31mTypeError\u001b[0m: 'str' object does not support item deletion"
     ]
    }
   ],
   "source": [
    "s = \"Hello ritik\"\n",
    "del s[-1:-5:-1]\n",
    "print(s)"
   ]
  },
  {
   "cell_type": "code",
   "execution_count": 40,
   "id": "51ca772a-e0e1-4bf9-b406-da7a74d05431",
   "metadata": {},
   "outputs": [],
   "source": [
    "# Operations on Strings\n",
    "# Arithmetic Operators\n",
    "# Relational Operator\n",
    "# Logical Operator\n",
    "# Loops on String\n",
    "# membership Operatons\n"
   ]
  },
  {
   "cell_type": "code",
   "execution_count": 41,
   "id": "a1e08976-7176-4a9e-92fc-a2a183ad4143",
   "metadata": {},
   "outputs": [
    {
     "name": "stdout",
     "output_type": "stream",
     "text": [
      "hello ritik\n"
     ]
    }
   ],
   "source": [
    "print(\"hello\" + \" \" + \"ritik\")\n"
   ]
  },
  {
   "cell_type": "code",
   "execution_count": 47,
   "id": "b738a62a-166f-4bcf-9b85-17a68260a2d1",
   "metadata": {},
   "outputs": [
    {
     "name": "stdout",
     "output_type": "stream",
     "text": [
      "ritik ritik ritik ritik ritik ritik ritik ritik ritik ritik \n",
      "@ @ @ @ @ @ @ @ @ @ \n"
     ]
    }
   ],
   "source": [
    "print(\"ritik \" * 10)\n",
    "print(\"@ \" * 10)"
   ]
  },
  {
   "cell_type": "code",
   "execution_count": 50,
   "id": "2db79a54-be5e-4a24-83fa-5298350b795a",
   "metadata": {},
   "outputs": [
    {
     "data": {
      "text/plain": [
       "True"
      ]
     },
     "execution_count": 50,
     "metadata": {},
     "output_type": "execute_result"
    }
   ],
   "source": [
    "\"hello\" == \"hello\""
   ]
  },
  {
   "cell_type": "code",
   "execution_count": 51,
   "id": "81283b25-d43a-4eca-a810-3a2ef056d4bd",
   "metadata": {},
   "outputs": [
    {
     "data": {
      "text/plain": [
       "False"
      ]
     },
     "execution_count": 51,
     "metadata": {},
     "output_type": "execute_result"
    }
   ],
   "source": [
    "\"Mumbai\" > \"Pune\"\n",
    "# lexiographically "
   ]
  },
  {
   "cell_type": "code",
   "execution_count": 55,
   "id": "148eb1fb-b35d-4537-a0a4-3cb34cd4ba32",
   "metadata": {},
   "outputs": [
    {
     "data": {
      "text/plain": [
       "False"
      ]
     },
     "execution_count": 55,
     "metadata": {},
     "output_type": "execute_result"
    }
   ],
   "source": [
    "\"Pune\" > \"pune\""
   ]
  },
  {
   "cell_type": "code",
   "execution_count": 56,
   "id": "67b0d730-9fff-4c78-b6e3-8236464ed8eb",
   "metadata": {},
   "outputs": [
    {
     "data": {
      "text/plain": [
       "'World'"
      ]
     },
     "execution_count": 56,
     "metadata": {},
     "output_type": "execute_result"
    }
   ],
   "source": [
    "\"Hello\" and \"World\"\n"
   ]
  },
  {
   "cell_type": "code",
   "execution_count": 57,
   "id": "9f4b02be-d2a1-4e4e-9917-c154be6a0a5f",
   "metadata": {},
   "outputs": [
    {
     "data": {
      "text/plain": [
       "'Hello'"
      ]
     },
     "execution_count": 57,
     "metadata": {},
     "output_type": "execute_result"
    }
   ],
   "source": [
    "\"Hello\" or \"World\"\n"
   ]
  },
  {
   "cell_type": "code",
   "execution_count": 59,
   "id": "118a3ab8-2bee-4d56-98a3-35c59ec6ce14",
   "metadata": {},
   "outputs": [
    {
     "data": {
      "text/plain": [
       "''"
      ]
     },
     "execution_count": 59,
     "metadata": {},
     "output_type": "execute_result"
    }
   ],
   "source": [
    "\"\" and \"world\"\n"
   ]
  },
  {
   "cell_type": "code",
   "execution_count": 60,
   "id": "ed02a52f-2c30-4d8f-83e4-7300b227e97f",
   "metadata": {},
   "outputs": [
    {
     "data": {
      "text/plain": [
       "'world'"
      ]
     },
     "execution_count": 60,
     "metadata": {},
     "output_type": "execute_result"
    }
   ],
   "source": [
    "\"\" or \"world\""
   ]
  },
  {
   "cell_type": "code",
   "execution_count": 62,
   "id": "362ec176-a212-49b2-90ae-1127d3a1e8a4",
   "metadata": {},
   "outputs": [
    {
     "data": {
      "text/plain": [
       "'hello'"
      ]
     },
     "execution_count": 62,
     "metadata": {},
     "output_type": "execute_result"
    }
   ],
   "source": [
    "\"hello\" or \"World\""
   ]
  },
  {
   "cell_type": "code",
   "execution_count": 63,
   "id": "d968aed5-6545-4322-8cf1-fefdda167158",
   "metadata": {},
   "outputs": [
    {
     "name": "stdout",
     "output_type": "stream",
     "text": [
      "H\n",
      "e\n",
      "l\n",
      "l\n",
      "o\n",
      " \n",
      "R\n",
      "i\n",
      "t\n",
      "i\n",
      "k\n"
     ]
    }
   ],
   "source": [
    "for i in \"Hello Ritik\":\n",
    "    print(i)"
   ]
  },
  {
   "cell_type": "code",
   "execution_count": 64,
   "id": "260ab30a-c147-4b26-a27d-afd435be2565",
   "metadata": {},
   "outputs": [
    {
     "name": "stdout",
     "output_type": "stream",
     "text": [
      "pune\n",
      "pune\n",
      "pune\n",
      "pune\n",
      "pune\n"
     ]
    }
   ],
   "source": [
    "for i in \"delhi\":\n",
    "    print(\"pune\")"
   ]
  },
  {
   "cell_type": "code",
   "execution_count": 67,
   "id": "e89e9e2a-4c0a-43a2-9afd-e7fd3c55425e",
   "metadata": {},
   "outputs": [
    {
     "data": {
      "text/plain": [
       "False"
      ]
     },
     "execution_count": 67,
     "metadata": {},
     "output_type": "execute_result"
    }
   ],
   "source": [
    "\"D\" not in \"Delhi\""
   ]
  },
  {
   "cell_type": "code",
   "execution_count": 73,
   "id": "13ea6831-737e-4998-992c-67606d3de83a",
   "metadata": {},
   "outputs": [
    {
     "name": "stdout",
     "output_type": "stream",
     "text": [
      "11\n"
     ]
    },
    {
     "data": {
      "text/plain": [
       "[' ', 'H', 'e', 'i', 'i', 'k', 'l', 'l', 'o', 'r', 't']"
      ]
     },
     "execution_count": 73,
     "metadata": {},
     "output_type": "execute_result"
    }
   ],
   "source": [
    "# Common Functions\n",
    "# len\n",
    "# max\n",
    "# min\n",
    "# sorted\n",
    "name = \"ritik Yadav\"\n",
    "print(len(name))\n",
    "len(\"Hello raj\") # -> len -> 9\n",
    "max(\"Hello world\") # output -> w\n",
    "sorted(\"Hello ritik\")\n"
   ]
  },
  {
   "cell_type": "markdown",
   "id": "a267dfc2-0e2c-4a73-a999-0791ca52b0b9",
   "metadata": {},
   "source": [
    "### Capitalize/ Title/ Upper/Lower/ Swapcase\n"
   ]
  },
  {
   "cell_type": "code",
   "execution_count": 77,
   "id": "d0e494d5-debc-4d5a-8080-ad4619a00b1a",
   "metadata": {},
   "outputs": [
    {
     "name": "stdout",
     "output_type": "stream",
     "text": [
      "Ritik yadav\n"
     ]
    }
   ],
   "source": [
    "name = \"ritik yadav\"\n",
    "print(name.capitalize())\n"
   ]
  },
  {
   "cell_type": "code",
   "execution_count": 79,
   "id": "43edae5d-88ba-41b4-bd72-e41ce21fa376",
   "metadata": {},
   "outputs": [
    {
     "data": {
      "text/plain": [
       "'Ritik Yadav'"
      ]
     },
     "execution_count": 79,
     "metadata": {},
     "output_type": "execute_result"
    }
   ],
   "source": [
    "name.title()\n"
   ]
  },
  {
   "cell_type": "code",
   "execution_count": 81,
   "id": "4ee33c9c-fc80-483a-923b-22ec6fdfe2c2",
   "metadata": {},
   "outputs": [
    {
     "data": {
      "text/plain": [
       "'RITIK YADAV'"
      ]
     },
     "execution_count": 81,
     "metadata": {},
     "output_type": "execute_result"
    }
   ],
   "source": [
    "name.upper()"
   ]
  },
  {
   "cell_type": "code",
   "execution_count": 82,
   "id": "8c7bd9ed-6670-4897-9dc8-1df6e9ed0c35",
   "metadata": {},
   "outputs": [
    {
     "data": {
      "text/plain": [
       "'ritik yadav'"
      ]
     },
     "execution_count": 82,
     "metadata": {},
     "output_type": "execute_result"
    }
   ],
   "source": [
    "name.lower()"
   ]
  },
  {
   "cell_type": "code",
   "execution_count": 84,
   "id": "d1dddb88-650b-4b89-86d7-e02a17846868",
   "metadata": {},
   "outputs": [
    {
     "data": {
      "text/plain": [
       "'hELlO wORLd'"
      ]
     },
     "execution_count": 84,
     "metadata": {},
     "output_type": "execute_result"
    }
   ],
   "source": [
    "\"HelLo WorlD\".swapcase()"
   ]
  },
  {
   "cell_type": "code",
   "execution_count": 85,
   "id": "ca14fdc5-ea8f-4eeb-976c-ed01a15f0e12",
   "metadata": {},
   "outputs": [
    {
     "data": {
      "text/plain": [
       "3"
      ]
     },
     "execution_count": 85,
     "metadata": {},
     "output_type": "execute_result"
    }
   ],
   "source": [
    "# count/ find/ index\n",
    "\"my name is ritik\".count(\"i\")"
   ]
  },
  {
   "cell_type": "code",
   "execution_count": 86,
   "id": "4cbc60b3-93f3-43e6-8c50-669a89b884a4",
   "metadata": {},
   "outputs": [
    {
     "data": {
      "text/plain": [
       "8"
      ]
     },
     "execution_count": 86,
     "metadata": {},
     "output_type": "execute_result"
    }
   ],
   "source": [
    "\"my name is ritik\".find(\"i\")"
   ]
  },
  {
   "cell_type": "code",
   "execution_count": 87,
   "id": "9489c54b-92ab-4fdc-a9c5-81686b2d7417",
   "metadata": {},
   "outputs": [
    {
     "data": {
      "text/plain": [
       "8"
      ]
     },
     "execution_count": 87,
     "metadata": {},
     "output_type": "execute_result"
    }
   ],
   "source": [
    "\"my name is ritik yadav\".index(\"is\")"
   ]
  },
  {
   "cell_type": "code",
   "execution_count": 90,
   "id": "21d5b5f7-ddb3-4441-be12-58a8284b873a",
   "metadata": {},
   "outputs": [
    {
     "data": {
      "text/plain": [
       "True"
      ]
     },
     "execution_count": 90,
     "metadata": {},
     "output_type": "execute_result"
    }
   ],
   "source": [
    "# enswith/startswith\n",
    "\"my name is ritik\".endswith(\"ritik\")"
   ]
  },
  {
   "cell_type": "code",
   "execution_count": 93,
   "id": "7e6de839-b015-4e5c-b2a7-7e4db033f55a",
   "metadata": {},
   "outputs": [
    {
     "data": {
      "text/plain": [
       "True"
      ]
     },
     "execution_count": 93,
     "metadata": {},
     "output_type": "execute_result"
    }
   ],
   "source": [
    "\"my name is ritik\".startswith(\"my\")"
   ]
  },
  {
   "cell_type": "code",
   "execution_count": 98,
   "id": "2b4e86d7-3508-4cd4-9b10-54aefd2b84b4",
   "metadata": {},
   "outputs": [
    {
     "data": {
      "text/plain": [
       "'Hi my name is ritik and i am 22 old'"
      ]
     },
     "execution_count": 98,
     "metadata": {},
     "output_type": "execute_result"
    }
   ],
   "source": [
    "# format\n",
    "name  = \"ritik\"\n",
    "years = 22\n",
    "\"Hi my name is {} and i am {} old\".format(name,years)"
   ]
  },
  {
   "cell_type": "code",
   "execution_count": 99,
   "id": "8a957e8a-bc26-4c73-9bc5-6bee1334afee",
   "metadata": {},
   "outputs": [],
   "source": [
    "# isalnum/ isalpha/isdigit/isidentifier"
   ]
  },
  {
   "cell_type": "code",
   "execution_count": 106,
   "id": "cfd64569-eb6c-4fcf-bd31-e74a18af3a6b",
   "metadata": {},
   "outputs": [
    {
     "data": {
      "text/plain": [
       "True"
      ]
     },
     "execution_count": 106,
     "metadata": {},
     "output_type": "execute_result"
    }
   ],
   "source": [
    "\"ritikyadav\".isalpha()"
   ]
  },
  {
   "cell_type": "code",
   "execution_count": 109,
   "id": "a21ab3b5-490c-4a00-8371-a8a5bc5026a1",
   "metadata": {},
   "outputs": [
    {
     "data": {
      "text/plain": [
       "True"
      ]
     },
     "execution_count": 109,
     "metadata": {},
     "output_type": "execute_result"
    }
   ],
   "source": [
    "\"ritikyadav980\".isalnum()"
   ]
  },
  {
   "cell_type": "code",
   "execution_count": 111,
   "id": "3e9808c7-d031-42db-9023-2a70cf7f278e",
   "metadata": {},
   "outputs": [
    {
     "data": {
      "text/plain": [
       "True"
      ]
     },
     "execution_count": 111,
     "metadata": {},
     "output_type": "execute_result"
    }
   ],
   "source": [
    "\"123\".isdigit()\n"
   ]
  },
  {
   "cell_type": "code",
   "execution_count": 112,
   "id": "925a0934-3850-47a3-a337-9b11059ea0f7",
   "metadata": {},
   "outputs": [
    {
     "data": {
      "text/plain": [
       "True"
      ]
     },
     "execution_count": 112,
     "metadata": {},
     "output_type": "execute_result"
    }
   ],
   "source": [
    "\"abc123\".isalnum()"
   ]
  },
  {
   "cell_type": "code",
   "execution_count": 115,
   "id": "53b716cf-4bfb-4eb6-86a7-48ed6b719a93",
   "metadata": {},
   "outputs": [
    {
     "data": {
      "text/plain": [
       "True"
      ]
     },
     "execution_count": 115,
     "metadata": {},
     "output_type": "execute_result"
    }
   ],
   "source": [
    "\"name1\".isidentifier()"
   ]
  },
  {
   "cell_type": "code",
   "execution_count": 121,
   "id": "01645b47-9c49-4c5f-b920-e80867ea8b9f",
   "metadata": {},
   "outputs": [
    {
     "data": {
      "text/plain": [
       "['hi', 'my', 'name', 'is', 'ritik']"
      ]
     },
     "execution_count": 121,
     "metadata": {},
     "output_type": "execute_result"
    }
   ],
   "source": [
    "# split/ join\n",
    "\"hi my name is ritik\".split(\" \")\n"
   ]
  },
  {
   "cell_type": "code",
   "execution_count": 126,
   "id": "352625a4-d305-43e7-852a-cb1705684bc1",
   "metadata": {},
   "outputs": [
    {
     "data": {
      "text/plain": [
       "'hi-my-name-is-ritik'"
      ]
     },
     "execution_count": 126,
     "metadata": {},
     "output_type": "execute_result"
    }
   ],
   "source": [
    "\"-\".join(['hi', 'my', 'name', 'is', 'ritik'])"
   ]
  },
  {
   "cell_type": "code",
   "execution_count": 128,
   "id": "bd2745c9-48d7-4ce7-8fc6-8c0ec942fd0f",
   "metadata": {},
   "outputs": [
    {
     "data": {
      "text/plain": [
       "'hi my name is Ritik'"
      ]
     },
     "execution_count": 128,
     "metadata": {},
     "output_type": "execute_result"
    }
   ],
   "source": [
    "# Replace\n",
    "\"hi my name is nitish\".replace(\"nitish\", \"Ritik\")"
   ]
  },
  {
   "cell_type": "code",
   "execution_count": 131,
   "id": "9d613e6e-4dc5-472c-8d88-058117d32a96",
   "metadata": {},
   "outputs": [
    {
     "data": {
      "text/plain": [
       "'hello ritik how are you'"
      ]
     },
     "execution_count": 131,
     "metadata": {},
     "output_type": "execute_result"
    }
   ],
   "source": [
    "# stip\n",
    "\"hello ritik how are you    \".strip()"
   ]
  },
  {
   "cell_type": "code",
   "execution_count": null,
   "id": "9963b43f-7b1f-41e7-9ee7-86447fb777cc",
   "metadata": {},
   "outputs": [],
   "source": []
  }
 ],
 "metadata": {
  "kernelspec": {
   "display_name": "Python 3 (ipykernel)",
   "language": "python",
   "name": "python3"
  },
  "language_info": {
   "codemirror_mode": {
    "name": "ipython",
    "version": 3
   },
   "file_extension": ".py",
   "mimetype": "text/x-python",
   "name": "python",
   "nbconvert_exporter": "python",
   "pygments_lexer": "ipython3",
   "version": "3.12.7"
  }
 },
 "nbformat": 4,
 "nbformat_minor": 5
}
